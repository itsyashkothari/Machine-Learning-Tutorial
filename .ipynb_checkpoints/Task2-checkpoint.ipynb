{
 "cells": [
  {
   "cell_type": "code",
   "execution_count": 1,
   "metadata": {},
   "outputs": [],
   "source": [
    "import numpy as np\n",
    "import time"
   ]
  },
  {
   "cell_type": "code",
   "execution_count": 2,
   "metadata": {},
   "outputs": [
    {
     "name": "stdout",
     "output_type": "stream",
     "text": [
      "0.000375248068511764\n"
     ]
    }
   ],
   "source": [
    "start1 = time.clock()\n",
    "x=np.random.randint(1, 100, size=(10, 1))\n",
    "y=np.random.randint(1, 100, size=(10, 1))\n",
    "a=np.dot (np.transpose(x),y)\n",
    "end1=time.clock()\n",
    "print(end1-start1)"
   ]
  },
  {
   "cell_type": "code",
   "execution_count": 3,
   "metadata": {},
   "outputs": [
    {
     "name": "stdout",
     "output_type": "stream",
     "text": [
      "0.0005637837841780229\n"
     ]
    }
   ],
   "source": [
    "start2 = time.clock()\n",
    "count=0\n",
    "s=0\n",
    "while count<x.size:\n",
    "\tp=x[count]*y[count]\n",
    "\ts+=p\n",
    "\tcount+=1\n",
    "end2=time.clock()\n",
    "print(end2-start2)"
   ]
  },
  {
   "cell_type": "code",
   "execution_count": 4,
   "metadata": {},
   "outputs": [
    {
     "name": "stdout",
     "output_type": "stream",
     "text": [
      "First method is faster\n"
     ]
    }
   ],
   "source": [
    "if (end1-start1)<(end2-start2):\n",
    "\tprint(\"First method is faster\")\n",
    "elif (end1-start1)>(end2-start2):\n",
    "\tprint(\"Second method is faster\")\n",
    "else:\n",
    "\tprint(\"Clock isn't precise\")"
   ]
  }
 ],
 "metadata": {
  "kernelspec": {
   "display_name": "Python 3",
   "language": "python",
   "name": "python3"
  },
  "language_info": {
   "codemirror_mode": {
    "name": "ipython",
    "version": 3
   },
   "file_extension": ".py",
   "mimetype": "text/x-python",
   "name": "python",
   "nbconvert_exporter": "python",
   "pygments_lexer": "ipython3",
   "version": "3.6.5"
  }
 },
 "nbformat": 4,
 "nbformat_minor": 2
}
