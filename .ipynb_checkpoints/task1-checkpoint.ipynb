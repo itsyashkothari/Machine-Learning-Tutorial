{
 "cells": [
  {
   "cell_type": "code",
   "execution_count": 48,
   "metadata": {},
   "outputs": [
    {
     "data": {
      "text/plain": [
       "array([   10,   110,   210,   310,   410,   510,   611,   711,   811,\n",
       "         911,  1011,  1111,  1212,  1312,  1412,  1512,  1612,  1713,\n",
       "        1813,  1913,  2013,  2113,  2213,  2314,  2414,  2514,  2614,\n",
       "        2714,  2815,  2915,  3015,  3115,  3215,  3315,  3416,  3516,\n",
       "        3616,  3716,  3816,  3917,  4017,  4117,  4217,  4317,  4417,\n",
       "        4518,  4618,  4718,  4818,  4918,  5019,  5119,  5219,  5319,\n",
       "        5419,  5519,  5620,  5720,  5820,  5920,  6020,  6121,  6221,\n",
       "        6321,  6421,  6521,  6621,  6722,  6822,  6922,  7022,  7122,\n",
       "        7222,  7323,  7423,  7523,  7623,  7723,  7824,  7924,  8024,\n",
       "        8124,  8224,  8324,  8425,  8525,  8625,  8725,  8825,  8926,\n",
       "        9026,  9126,  9226,  9326,  9426,  9527,  9627,  9727,  9827,\n",
       "        9927, 10028, 10128, 10228, 10328, 10428, 10528, 10629, 10729,\n",
       "       10829, 10929, 11029, 11130, 11230, 11330, 11430, 11530, 11630,\n",
       "       11731, 11831, 11931, 12031, 12131, 12232, 12332, 12432, 12532,\n",
       "       12632, 12732, 12833, 12933, 13033, 13133, 13233, 13333, 13434,\n",
       "       13534, 13634, 13734, 13834, 13935, 14035, 14135, 14235, 14335,\n",
       "       14435, 14536, 14636, 14736, 14836, 14936, 15037, 15137, 15237,\n",
       "       15337, 15437, 15537, 15638, 15738, 15838, 15938, 16038, 16139,\n",
       "       16239, 16339, 16439, 16539, 16639, 16740, 16840, 16940, 17040,\n",
       "       17140, 17241, 17341, 17441, 17541, 17641, 17741, 17842, 17942,\n",
       "       18042, 18142, 18242, 18343, 18443, 18543, 18643, 18743, 18843,\n",
       "       18944, 19044, 19144, 19244, 19344, 19444, 19545, 19645, 19745,\n",
       "       19845, 19945, 20046, 20146, 20246, 20346, 20446, 20546, 20647,\n",
       "       20747, 20847, 20947, 21047, 21148, 21248, 21348, 21448, 21548,\n",
       "       21648, 21749, 21849, 21949, 22049, 22149, 22250, 22350, 22450,\n",
       "       22550, 22650, 22750, 22851, 22951, 23051, 23151, 23251, 23352,\n",
       "       23452, 23552, 23652, 23752, 23852, 23953, 24053, 24153, 24253,\n",
       "       24353, 24454, 24554, 24654, 24754, 24854, 24954, 25055, 25155,\n",
       "       25255, 25355, 25455, 25555, 25656, 25756, 25856, 25956, 26056,\n",
       "       26157, 26257, 26357, 26457, 26557, 26657, 26758, 26858, 26958,\n",
       "       27058, 27158, 27259, 27359, 27459, 27559, 27659, 27759, 27860,\n",
       "       27960, 28060, 28160, 28260, 28361, 28461, 28561, 28661, 28761,\n",
       "       28861, 28962, 29062, 29162, 29262, 29362, 29463, 29563, 29663,\n",
       "       29763, 29863, 29963, 30064, 30164, 30264, 30364, 30464, 30565,\n",
       "       30665, 30765, 30865, 30965, 31065, 31166, 31266, 31366, 31466,\n",
       "       31566, 31666, 31767, 31867, 31967, 32067, 32167, 32268, 32368,\n",
       "       32468, 32568, 32668, 32768, 32869, 32969, 33069, 33169, 33269,\n",
       "       33370, 33470, 33570, 33670, 33770, 33870, 33971, 34071, 34171,\n",
       "       34271, 34371, 34472, 34572, 34672, 34772, 34872, 34972, 35073,\n",
       "       35173, 35273, 35373, 35473, 35574, 35674, 35774, 35874, 35974,\n",
       "       36074, 36175, 36275, 36375, 36475, 36575, 36676, 36776, 36876,\n",
       "       36976, 37076, 37176, 37277, 37377, 37477, 37577, 37677, 37777,\n",
       "       37878, 37978, 38078, 38178, 38278, 38379, 38479, 38579, 38679,\n",
       "       38779, 38879, 38980, 39080, 39180, 39280, 39380, 39481, 39581,\n",
       "       39681, 39781, 39881, 39981, 40082, 40182, 40282, 40382, 40482,\n",
       "       40583, 40683, 40783, 40883, 40983, 41083, 41184, 41284, 41384,\n",
       "       41484, 41584, 41685, 41785, 41885, 41985, 42085, 42185, 42286,\n",
       "       42386, 42486, 42586, 42686, 42787, 42887, 42987, 43087, 43187,\n",
       "       43287, 43388, 43488, 43588, 43688, 43788, 43888, 43989, 44089,\n",
       "       44189, 44289, 44389, 44490, 44590, 44690, 44790, 44890, 44990,\n",
       "       45091, 45191, 45291, 45391, 45491, 45592, 45692, 45792, 45892,\n",
       "       45992, 46092, 46193, 46293, 46393, 46493, 46593, 46694, 46794,\n",
       "       46894, 46994, 47094, 47194, 47295, 47395, 47495, 47595, 47695,\n",
       "       47796, 47896, 47996, 48096, 48196, 48296, 48397, 48497, 48597,\n",
       "       48697, 48797, 48898, 48998, 49098, 49198, 49298, 49398, 49499,\n",
       "       49599, 49699, 49799, 49899, 50000])"
      ]
     },
     "execution_count": 48,
     "metadata": {},
     "output_type": "execute_result"
    }
   ],
   "source": [
    "%matplotlib inline\n",
    "import numpy as np\n",
    "import random\n",
    "x = np.linspace(10,50000,500)\n",
    "x = x.astype(int)\n",
    "x\n"
   ]
  },
  {
   "cell_type": "code",
   "execution_count": 45,
   "metadata": {},
   "outputs": [
    {
     "data": {
      "text/plain": [
       "array([-0.02266808, -0.08934166, -0.02462187, -0.41728575, -0.45418811,\n",
       "       -0.13013111, -0.71341838, -0.04787425, -0.16391377, -0.46504352,\n",
       "       -0.53243525, -0.49251806, -0.23805297, -0.65576994, -0.86601395,\n",
       "       -0.17225647, -0.29502642, -0.01952544, -0.41306327, -0.01171141,\n",
       "       -0.04473519, -0.140517  , -0.24972813, -0.04535645, -0.08644707,\n",
       "       -0.14986849, -0.20482458, -0.09479918, -0.29093532, -0.13910937,\n",
       "       -0.18052547, -0.06193589, -0.00959261, -0.16663713, -0.24758673,\n",
       "       -0.08250443, -0.15339983, -0.08080936, -0.04947501, -0.06434988,\n",
       "       -0.07135629, -0.65977086, -0.03092095, -0.36986666, -0.35934959,\n",
       "       -0.08372994, -0.10610554, -0.28453658, -0.41513806, -0.0734825 ])"
      ]
     },
     "execution_count": 45,
     "metadata": {},
     "output_type": "execute_result"
    }
   ],
   "source": [
    "y = (5**(-1))*np.log(x)\n",
    "y"
   ]
  },
  {
   "cell_type": "code",
   "execution_count": 46,
   "metadata": {},
   "outputs": [
    {
     "data": {
      "image/png": "[encoded data removed]",
      "text/plain": [
       "<Figure size 432x288 with 1 Axes>"
      ]
     },
     "metadata": {},
     "output_type": "display_data"
    }
   ],
   "source": [
    "\n",
    "import matplotlib.pyplot as plt\n",
    "plt.scatter(x,y)\n",
    "plt.show()"
   ]
  },
  {
   "cell_type": "code",
   "execution_count": 43,
   "metadata": {},
   "outputs": [],
   "source": []
  },
  {
   "cell_type": "code",
   "execution_count": null,
   "metadata": {},
   "outputs": [],
   "source": []
  }
 ],
 "metadata": {
  "kernelspec": {
   "display_name": "Python 3",
   "language": "python",
   "name": "python3"
  },
  "language_info": {
   "codemirror_mode": {
    "name": "ipython",
    "version": 3
   },
   "file_extension": ".py",
   "mimetype": "text/x-python",
   "name": "python",
   "nbconvert_exporter": "python",
   "pygments_lexer": "ipython3",
   "version": "3.5.2"
  }
 },
 "nbformat": 4,
 "nbformat_minor": 2
}
