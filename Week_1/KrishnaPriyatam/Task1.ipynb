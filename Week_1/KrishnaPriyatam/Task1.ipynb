{
 "cells": [
  {
   "cell_type": "code",
   "execution_count": 1,
   "metadata": {},
   "outputs": [],
   "source": [
    "import numpy as np"
   ]
  },
  {
   "cell_type": "code",
   "execution_count": 2,
   "metadata": {},
   "outputs": [],
   "source": [
    "def calculate(x):\n",
    "    return((2**-1)*np.log10(x))"
   ]
  },
  {
   "cell_type": "code",
   "execution_count": 3,
   "metadata": {},
   "outputs": [],
   "source": [
    "x=np.random.randint(1, 1000, size=(1, 500))"
   ]
  },
  {
   "cell_type": "code",
   "execution_count": 4,
   "metadata": {},
   "outputs": [
    {
     "data": {
      "text/plain": [
       "array([[199, 794, 914, 222, 895, 951, 206, 304, 142, 834, 759, 888, 623,\n",
       "        687, 124, 626,  21, 396,  50, 444, 864, 838, 246,  44, 838, 738,\n",
       "         21, 430, 890, 403, 816, 719, 689, 899,  45, 539, 950, 330, 216,\n",
       "        612, 480,  60, 905, 351, 997, 612, 137, 123, 420,  56, 471, 879,\n",
       "        273, 986, 388, 735, 389, 345, 605, 505, 805, 557, 181,  93, 470,\n",
       "        536, 630, 164, 539, 469, 142, 352, 195, 999, 649, 534, 757, 246,\n",
       "        517, 952, 489, 136, 389, 752, 667, 119, 757,  34, 217,  34, 853,\n",
       "        106, 359, 941, 637, 382, 500, 821, 975, 104, 382, 405, 301, 765,\n",
       "        486,  12, 400, 437, 759, 150, 359, 821, 160, 455, 943, 677, 846,\n",
       "        255, 860, 911, 645, 156,  38, 438, 182, 352, 277, 870, 832, 271,\n",
       "        986, 777, 735, 155, 857, 121, 548, 622, 310, 302, 551, 256, 882,\n",
       "        140, 839, 387, 549, 847, 821, 457, 343, 640, 825, 780, 491, 940,\n",
       "        802, 790, 486, 708, 891,  87, 340, 881, 771, 248, 429, 408, 963,\n",
       "        745, 948, 682, 737, 554, 173, 983, 787, 478, 396, 609, 621, 597,\n",
       "        620, 643, 753, 391, 187, 718, 307, 198, 435, 110, 969, 976,  94,\n",
       "        844, 272, 604, 140, 667, 329, 796, 341, 467, 826, 954, 944, 380,\n",
       "        169, 986, 359, 879, 408, 178, 994, 632, 475, 167, 594,  88,  98,\n",
       "        626, 635,  92, 815, 533, 586,  46, 152, 383, 684, 772, 430, 762,\n",
       "         35, 956, 137, 937, 758, 721,  33, 509, 787, 576, 266, 153, 681,\n",
       "        822, 571, 282, 378,  79, 508, 710, 561,  45, 131, 962, 865, 151,\n",
       "         93,  19, 239, 808, 719,  87, 822, 758, 726, 663, 797, 351, 394,\n",
       "        952, 299, 128, 337, 127, 150, 756,  27, 780, 703, 539, 799, 639,\n",
       "        708,  57, 794, 897, 128, 811, 476, 151, 306, 444, 288, 331,  85,\n",
       "        824, 614, 494, 211, 697, 449, 708, 484, 225, 501, 362, 899, 963,\n",
       "         52, 451, 489,  89, 947, 162, 912,  26, 170, 708, 999, 643, 953,\n",
       "        184, 146,  28, 587, 995, 740, 611,  33, 300, 601, 742, 657, 282,\n",
       "        932, 488,  22, 413, 551,  20, 564, 250, 282, 255, 152, 492, 458,\n",
       "        728, 296, 735, 997, 696, 640, 334, 845,  17,  71, 913, 669, 401,\n",
       "        981, 815, 905, 164,  94, 301, 534,  48,  12, 980, 646, 667, 110,\n",
       "        695, 596, 617, 913, 873, 483, 760, 519, 256, 384, 849, 111, 326,\n",
       "        757, 907, 924, 209, 388,  71, 122, 249, 995, 661,  16,  74, 757,\n",
       "        822, 401, 221, 747, 697, 748, 141, 979, 435, 821, 797, 458, 876,\n",
       "        957, 380, 863, 419, 461, 263, 969, 388, 731, 287, 604, 739, 569,\n",
       "        570, 157, 272, 729, 218, 700, 503, 242,  96, 705, 152,  63, 543,\n",
       "        463, 605, 176,  10, 917, 606,  70, 242, 296, 662, 914, 444, 368,\n",
       "        720, 432, 329, 512,   2, 998, 552, 375, 704, 951, 831, 218, 385,\n",
       "        438, 653,  18, 707, 753, 171, 605, 597, 771, 559, 828, 872, 635,\n",
       "        818, 348, 765, 329, 106, 545, 807, 629, 773, 130, 617, 837, 500,\n",
       "        647, 656, 573, 391, 432, 860]])"
      ]
     },
     "execution_count": 4,
     "metadata": {},
     "output_type": "execute_result"
    }
   ],
   "source": [
    "x"
   ]
  },
  {
   "cell_type": "code",
   "execution_count": 5,
   "metadata": {},
   "outputs": [],
   "source": [
    "y= calculate(x)"
   ]
  },
  {
   "cell_type": "code",
   "execution_count": 6,
   "metadata": {},
   "outputs": [
    {
     "data": {
      "text/plain": [
       "array([[1.14942654, 1.44991025, 1.4804731 , 1.17317649, 1.47591152,\n",
       "        1.48909026, 1.15693361, 1.24143679, 1.07614417, 1.46058303,\n",
       "        1.44012089, 1.47420648, 1.39724402, 1.41847837, 1.04671084,\n",
       "        1.39828717, 0.66110965, 1.29884759, 0.849485  , 1.32369149,\n",
       "        1.46825687, 1.46162201, 1.19546755, 0.82172634, 1.46162201,\n",
       "        1.43402818, 0.66110965, 1.31673423, 1.474695  , 1.30265252,\n",
       "        1.45584508, 1.42836445, 1.41910961, 1.47687985, 0.82660626,\n",
       "        1.36579438, 1.4888618 , 1.25925697, 1.16722688, 1.39337571,\n",
       "        1.34062062, 0.88907563, 1.47832429, 1.27265356, 1.49934758,\n",
       "        1.39337571, 1.06836028, 1.04495256, 1.31162465, 0.87409401,\n",
       "        1.33651045, 1.47199444, 1.21808132, 1.49693846, 1.29441586,\n",
       "        1.43314367, 1.2949748 , 1.26890955, 1.39087769, 1.35164569,\n",
       "        1.45289794, 1.3729276 , 1.12883929, 0.98424147, 1.33604893,\n",
       "        1.36458239, 1.39967027, 1.10742192, 1.36579438, 1.33558642,\n",
       "        1.07614417, 1.27327133, 1.14501731, 1.49978274, 1.40612235,\n",
       "        1.36377063, 1.43954794, 1.19546755, 1.35674527, 1.48931847,\n",
       "        1.34465443, 1.06676945, 1.2949748 , 1.43810892, 1.41206292,\n",
       "        1.03777348, 1.43954794, 0.76573946, 1.16822987, 0.76573946,\n",
       "        1.46547452, 1.01265293, 1.27754722, 1.48679481, 1.40206972,\n",
       "        1.29103168, 1.349485  , 1.45717158, 1.49450231, 1.00851667,\n",
       "        1.29103168, 1.30372751, 1.23928325, 1.44183072, 1.34331813,\n",
       "        0.53959062, 1.30103   , 1.32024072, 1.44012089, 1.08804563,\n",
       "        1.27754722, 1.45717158, 1.10205999, 1.3290057 , 1.48725585,\n",
       "        1.41529433, 1.46368518, 1.20327009, 1.46724923, 1.47975919,\n",
       "        1.40477986, 1.0965623 , 0.7898918 , 1.32073706, 1.13003569,\n",
       "        1.27327133, 1.22123988, 1.46975963, 1.46006166, 1.21648465,\n",
       "        1.49693846, 1.44521051, 1.43314367, 1.09516585, 1.46649041,\n",
       "        1.04139269, 1.36939028, 1.39689519, 1.24568085, 1.24000347,\n",
       "        1.3705758 , 1.20411998, 1.47273429, 1.07306402, 1.46188098,\n",
       "        1.29385548, 1.36978617, 1.46394171, 1.45717158, 1.3299581 ,\n",
       "        1.26764706, 1.40308999, 1.45822697, 1.4460473 , 1.34554075,\n",
       "        1.48656393, 1.45208718, 1.44881355, 1.34331813, 1.42501663,\n",
       "        1.47493885, 0.96975963, 1.26573946, 1.47248795, 1.44352719,\n",
       "        1.19722584, 1.31622865, 1.30533008, 1.49181314, 1.43607814,\n",
       "        1.48840417, 1.41689219, 1.43373374, 1.37175488, 1.11902305,\n",
       "        1.49627676, 1.44798737, 1.33971395, 1.29884759, 1.39230865,\n",
       "        1.3965458 , 1.38798717, 1.39619584, 1.40410549, 1.43839749,\n",
       "        1.29608838, 1.1359208 , 1.42806222, 1.24356919, 1.1483326 ,\n",
       "        1.31924463, 1.02069634, 1.49316189, 1.49472491, 0.98656393,\n",
       "        1.46317122, 1.21728445, 1.39051847, 1.07306402, 1.41206292,\n",
       "        1.25859795, 1.45045653, 1.26637719, 1.33465844, 1.45849002,\n",
       "        1.48977419, 1.487486  , 1.2898918 , 1.11394335, 1.49693846,\n",
       "        1.27754722, 1.47199444, 1.30533008, 1.12521   , 1.49869319,\n",
       "        1.40035854, 1.3383468 , 1.11135824, 1.38689322, 0.97224134,\n",
       "        0.99561304, 1.39828717, 1.40138686, 0.98189391, 1.4555788 ,\n",
       "        1.3633636 , 1.38394881, 0.83137892, 1.09092179, 1.29159939,\n",
       "        1.41752805, 1.44380865, 1.31673423, 1.44097749, 0.77203402,\n",
       "        1.49022895, 1.06836028, 1.4858698 , 1.4398346 , 1.42896763,\n",
       "        0.75925697, 1.35335889, 1.44798737, 1.38021124, 1.21244082,\n",
       "        1.09234572, 1.41657356, 1.45743591, 1.37831805, 1.22512455,\n",
       "        1.2887459 , 0.94881355, 1.35293186, 1.42562917, 1.37448143,\n",
       "        0.82660626, 1.05863565, 1.49158754, 1.46850805, 1.08948847,\n",
       "        0.98424147, 0.6393768 , 1.18919895, 1.45370568, 1.42836445,\n",
       "        0.96975963, 1.45743591, 1.4398346 , 1.43046831, 1.41075676,\n",
       "        1.45072916, 1.27265356, 1.29774811, 1.48931847, 1.23783559,\n",
       "        1.05360498, 1.26381495, 1.05190186, 1.08804563, 1.4392609 ,\n",
       "        0.71568188, 1.4460473 , 1.42347766, 1.36579438, 1.45127339,\n",
       "        1.40275043, 1.42501663, 0.87793743, 1.44991025, 1.47639622,\n",
       "        1.05360498, 1.45451043, 1.33880348, 1.08948847, 1.24286071,\n",
       "        1.32369149, 1.22969624, 1.259914  , 0.96470946, 1.45796361,\n",
       "        1.39408419, 1.34686347, 1.16214123, 1.42161639, 1.32612317,\n",
       "        1.42501663, 1.34242268, 1.17609126, 1.34991886, 1.27935429,\n",
       "        1.47687985, 1.49181314, 0.85800167, 1.32708827, 1.34465443,\n",
       "        0.974695  , 1.48817499, 1.10475751, 1.47999742, 0.70748667,\n",
       "        1.11522446, 1.42501663, 1.49978274, 1.40410549, 1.48954645,\n",
       "        1.13240891, 1.08217643, 0.72357902, 1.38431905, 1.49891154,\n",
       "        1.43461586, 1.39302061, 0.75925697, 1.23856063, 1.38943724,\n",
       "        1.43520195, 1.40878268, 1.22512455, 1.48470796, 1.34420991,\n",
       "        0.67121134, 1.30797503, 1.3705758 , 0.650515  , 1.37563955,\n",
       "        1.19897   , 1.22512455, 1.20327009, 1.09092179, 1.34598255,\n",
       "        1.33043274, 1.43106569, 1.23564586, 1.43314367, 1.49934758,\n",
       "        1.42130462, 1.40308999, 1.26187323, 1.46342835, 0.61522446,\n",
       "        0.92562917, 1.48023539, 1.41271306, 1.30157219, 1.4958345 ,\n",
       "        1.4555788 , 1.47832429, 1.10742192, 0.98656393, 1.23928325,\n",
       "        1.36377063, 0.84062062, 0.53959062, 1.49561304, 1.40511626,\n",
       "        1.41206292, 1.02069634, 1.4209924 , 1.38762313, 1.39514258,\n",
       "        1.48023539, 1.47050712, 1.34197357, 1.4404068 , 1.35758368,\n",
       "        1.20411998, 1.29216561, 1.46445385, 1.02266149, 1.2566088 ,\n",
       "        1.43954794, 1.47880364, 1.48283599, 1.16007314, 1.29441586,\n",
       "        0.92562917, 1.04317992, 1.19809967, 1.49891154, 1.41010073,\n",
       "        0.60205999, 0.93461586, 1.43954794, 1.45743591, 1.30157219,\n",
       "        1.17219614, 1.4366603 , 1.42161639, 1.4369508 , 1.07460956,\n",
       "        1.49539135, 1.31924463, 1.45717158, 1.45072916, 1.33043274,\n",
       "        1.47125205, 1.49045597, 1.2898918 , 1.4680054 , 1.31110701,\n",
       "        1.33185046, 1.20997787, 1.49316189, 1.29441586, 1.43195869,\n",
       "        1.22894095, 1.39051847, 1.43432222, 1.37755613, 1.37793743,\n",
       "        1.09794983, 1.21728445, 1.43136376, 1.16922825, 1.42254902,\n",
       "        1.35078399, 1.19190768, 0.99113562, 1.42409456, 1.09092179,\n",
       "        0.89967027, 1.36739991, 1.3327905 , 1.39087769, 1.12275633,\n",
       "        0.5       , 1.48118467, 1.39123631, 0.92254902, 1.19190768,\n",
       "        1.23564586, 1.41042899, 1.4804731 , 1.32369149, 1.28292391,\n",
       "        1.42866625, 1.31774187, 1.25859795, 1.35463498, 0.150515  ,\n",
       "        1.49956527, 1.37096954, 1.28701563, 1.42378633, 1.48909026,\n",
       "        1.45980051, 1.16922825, 1.29273036, 1.32073706, 1.40745659,\n",
       "        0.62763625, 1.42470971, 1.43839749, 1.11649806, 1.39087769,\n",
       "        1.38798717, 1.44352719, 1.3737059 , 1.45901517, 1.47025824,\n",
       "        1.40138686, 1.45637665, 1.27078962, 1.44183072, 1.25859795,\n",
       "        1.01265293, 1.36819825, 1.45343677, 1.39932532, 1.44408975,\n",
       "        1.05697168, 1.39514258, 1.46136273, 1.349485  , 1.40545214,\n",
       "        1.40845192, 1.37907731, 1.29608838, 1.31774187, 1.46724923]])"
      ]
     },
     "execution_count": 6,
     "metadata": {},
     "output_type": "execute_result"
    }
   ],
   "source": [
    "y"
   ]
  },
  {
   "cell_type": "code",
   "execution_count": 7,
   "metadata": {},
   "outputs": [],
   "source": [
    "a=np.row_stack((x, y))"
   ]
  },
  {
   "cell_type": "code",
   "execution_count": 8,
   "metadata": {},
   "outputs": [],
   "source": [
    "import matplotlib.pyplot as plt"
   ]
  },
  {
   "cell_type": "code",
   "execution_count": 9,
   "metadata": {},
   "outputs": [
    {
     "data": {
      "text/plain": [
       "<matplotlib.collections.PathCollection at 0x106db650>"
      ]
     },
     "execution_count": 9,
     "metadata": {},
     "output_type": "execute_result"
    },
    {
     "data": {
      "image/png": "[encoded data removed]",
      "text/plain": [
       "<Figure size 432x288 with 1 Axes>"
      ]
     },
     "metadata": {},
     "output_type": "display_data"
    }
   ],
   "source": [
    "plt.scatter(x,y)"
   ]
  }
 ],
 "metadata": {
  "kernelspec": {
   "display_name": "Python 3",
   "language": "python",
   "name": "python3"
  },
  "language_info": {
   "codemirror_mode": {
    "name": "ipython",
    "version": 3
   },
   "file_extension": ".py",
   "mimetype": "text/x-python",
   "name": "python",
   "nbconvert_exporter": "python",
   "pygments_lexer": "ipython3",
   "version": "3.6.5"
  }
 },
 "nbformat": 4,
 "nbformat_minor": 2
}
