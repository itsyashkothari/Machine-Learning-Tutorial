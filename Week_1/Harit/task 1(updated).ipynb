{
 "cells": [
  {
   "cell_type": "code",
   "execution_count": 2,
   "metadata": {},
   "outputs": [],
   "source": [
    "import numpy as np\n",
    "%matplotlib inline\n",
    "import random"
   ]
  },
  {
   "cell_type": "code",
   "execution_count": 8,
   "metadata": {},
   "outputs": [
    {
     "data": {
      "text/plain": [
       "array([420, 173, 310, 332, 348,  28, 189, 263, 441,  84, 260, 169, 322,\n",
       "        94,  10, 319, 194,  98, 351, 178,  74, 397, 438,  35, 221, 338,\n",
       "       381, 195, 499, 344, 352,  60,   6, 387, 300, 278, 467, 451, 186,\n",
       "       424,  42, 238, 204, 402, 327,  51, 334,  56,  75, 156,  69, 273,\n",
       "       450, 145, 356, 293, 498, 305, 250, 419, 454, 206, 462, 493, 372,\n",
       "        79, 415, 186, 230, 360, 388, 405, 138, 210, 328, 274,  95, 491,\n",
       "       437, 150, 147, 131, 284, 246, 221, 189, 135, 160, 444, 183,  83,\n",
       "       274, 346, 270,  16, 380, 319, 473, 363, 364, 301, 465, 225, 403,\n",
       "       392, 369, 329,  81, 283, 495, 208,  40, 302, 490, 483,  38,  70,\n",
       "        19, 329,  15, 191, 451, 427, 206, 198,  89, 319, 267, 484, 171,\n",
       "       168, 268, 395, 466, 189,  46, 171, 312, 353, 426, 489, 291, 144,\n",
       "       107,  90, 391, 455, 432, 335, 385, 140, 369, 233, 284,  94, 214,\n",
       "        57, 126, 315,  56, 405, 195, 354, 420, 285,  20, 390, 273, 198,\n",
       "       117, 234, 272, 204, 183,  13, 121, 423, 319,  52, 119,  40, 497,\n",
       "       287,  15, 125, 146, 390, 324, 108, 183, 379, 302, 424, 192, 255,\n",
       "       337, 200, 451, 184, 239, 327, 402, 384, 294, 377, 368, 167, 464,\n",
       "       108,  48, 298, 405, 494, 115, 226, 386, 120, 343, 211, 206, 201,\n",
       "       293, 308, 324, 413, 436, 268,  86, 216, 220,  45, 161, 274, 492,\n",
       "       122, 444, 440, 338, 484, 383, 380, 174,  39, 243, 102, 106, 174,\n",
       "       119, 413,  73, 240, 459, 489, 141, 215, 350, 390, 363, 494,  36,\n",
       "       285, 201, 105, 233, 298,  71, 146, 153,  52,  60,  74,   9, 366,\n",
       "       380, 204,  48, 152,  74,  77, 229,  35, 279, 139, 422, 177, 272,\n",
       "        36, 384, 433, 394, 211, 328, 104,  63, 192, 104, 385, 210, 402,\n",
       "        10, 371, 233, 173,  16,  50, 178,  22,  85, 204, 219, 215,  62,\n",
       "       408,  87,  34, 122, 260, 451, 106, 415, 311, 302,  47, 379, 340,\n",
       "       498, 196,  31,  78, 157, 309, 173, 322,  58, 366, 234, 166, 223,\n",
       "       449, 483,  18, 103, 324, 422, 414, 300, 204, 222, 493, 164, 385,\n",
       "       193, 255, 208, 389,  89, 267, 257, 451,  38, 353, 336,  50, 456,\n",
       "       144, 353, 280, 299, 366, 140,  61, 272, 333, 477, 418, 100,  51,\n",
       "        10, 124, 245, 184, 359, 301, 219, 264, 347, 101, 416, 316, 232,\n",
       "       266, 135, 474, 111, 242, 153, 439,  38,   7, 355, 365, 100,  13,\n",
       "       267, 499, 193, 167, 310, 281, 430, 469,  36, 213, 258,  33, 491,\n",
       "        48, 222, 428,  81, 201, 221,  76, 401, 421, 313, 426, 365, 282,\n",
       "       371, 193, 341, 384, 398, 196, 457, 342, 289,  95,  36,  15, 471,\n",
       "       344, 378, 294, 323, 473, 350, 295, 298, 458, 256, 112, 115, 162,\n",
       "       260,  97, 262, 166, 163, 348,  42,  68, 349, 415, 398, 463, 240,\n",
       "       108, 333, 211, 443, 252, 484, 142, 134, 113,  26, 248, 261, 244,\n",
       "       296, 258, 336,   8, 335, 181,  81, 429, 112, 334, 115, 396, 146,\n",
       "       298, 269, 135,  68, 323, 358])"
      ]
     },
     "execution_count": 8,
     "metadata": {},
     "output_type": "execute_result"
    }
   ],
   "source": [
    "x = np.random.randint(5,500,size=(500))\n",
    "x"
   ]
  },
  {
   "cell_type": "code",
   "execution_count": 9,
   "metadata": {},
   "outputs": [],
   "source": [
    "def calx(x):\n",
    "    return (10**(-1))*np.log(x)"
   ]
  },
  {
   "cell_type": "code",
   "execution_count": 12,
   "metadata": {},
   "outputs": [
    {
     "data": {
      "text/plain": [
       "array([0.60402547, 0.51532916, 0.57365723, 0.5805135 , 0.58522025,\n",
       "       0.33322045, 0.5241747 , 0.5572154 , 0.60890449, 0.44308168,\n",
       "       0.55606816, 0.51298987, 0.57745515, 0.45432948, 0.23025851,\n",
       "       0.57651911, 0.52678582, 0.45849675, 0.58607862, 0.51817836,\n",
       "       0.43040651, 0.59839363, 0.60822189, 0.35553481, 0.53981627,\n",
       "       0.58230459, 0.59427994, 0.52729996, 0.62126061, 0.58406417,\n",
       "       0.58636312, 0.40943446, 0.17917595, 0.59584247, 0.57037825,\n",
       "       0.56276211, 0.61463293, 0.61114673, 0.52257467, 0.60497335,\n",
       "       0.37376696, 0.54722707, 0.531812  , 0.59964521, 0.57899602,\n",
       "       0.39318256, 0.5811141 , 0.40253517, 0.43174881, 0.5049856 ,\n",
       "       0.42341065, 0.56094718, 0.61092476, 0.49767337, 0.58749307,\n",
       "       0.56801726, 0.62106001, 0.57203118, 0.55214609, 0.60378709,\n",
       "       0.61180972, 0.53278762, 0.61355649, 0.62005092, 0.59188939,\n",
       "       0.43694479, 0.60282785, 0.52257467, 0.54380793, 0.5886104 ,\n",
       "       0.59610053, 0.60038871, 0.49272537, 0.53471075, 0.57930136,\n",
       "       0.56131281, 0.45538769, 0.61964441, 0.60799332, 0.50106353,\n",
       "       0.49904326, 0.48751973, 0.56489742, 0.55053315, 0.53981627,\n",
       "       0.5241747 , 0.49052748, 0.50751738, 0.60958246, 0.52094862,\n",
       "       0.44188406, 0.56131281, 0.58464388, 0.5598422 , 0.27725887,\n",
       "       0.59401713, 0.57651911, 0.61590954, 0.58944028, 0.58971539,\n",
       "       0.57071103, 0.61420374, 0.54161004, 0.59989366, 0.59712618,\n",
       "       0.59107966, 0.57960578, 0.43944492, 0.56454469, 0.62045578,\n",
       "       0.53375381, 0.36888795, 0.5710427 , 0.61944054, 0.61800167,\n",
       "       0.36375862, 0.42484952, 0.2944439 , 0.57960578, 0.27080502,\n",
       "       0.52522734, 0.61114673, 0.6056784 , 0.53278762, 0.5288267 ,\n",
       "       0.44886364, 0.57651911, 0.55872487, 0.61820849, 0.51416636,\n",
       "       0.5123964 , 0.5590987 , 0.59788858, 0.61441856, 0.5241747 ,\n",
       "       0.38286414, 0.51416636, 0.57430032, 0.58664681, 0.60544393,\n",
       "       0.61923625, 0.56733233, 0.49698133, 0.46728288, 0.44998097,\n",
       "       0.59687076, 0.61202974, 0.60684256, 0.58141305, 0.59532433,\n",
       "       0.49416424, 0.59107966, 0.54510385, 0.56489742, 0.45432948,\n",
       "       0.5365976 , 0.40430513, 0.48362819, 0.57525726, 0.40253517,\n",
       "       0.60038871, 0.52729996, 0.58692969, 0.60402547, 0.56524892,\n",
       "       0.29957323, 0.59661467, 0.56094718, 0.5288267 , 0.47621739,\n",
       "       0.54553211, 0.56058021, 0.531812  , 0.52094862, 0.25649494,\n",
       "       0.47957905, 0.60473722, 0.57651911, 0.39512437, 0.47791235,\n",
       "       0.36888795, 0.620859  , 0.56594822, 0.27080502, 0.48283137,\n",
       "       0.49836066, 0.59661467, 0.57807435, 0.46821312, 0.52094862,\n",
       "       0.59375362, 0.5710427 , 0.60497335, 0.52574954, 0.55412635,\n",
       "       0.58200829, 0.52983174, 0.61114673, 0.52149358, 0.54764636,\n",
       "       0.57899602, 0.59964521, 0.59506426, 0.56835798, 0.59322452,\n",
       "       0.59080829, 0.51179938, 0.61398846, 0.46821312, 0.3871201 ,\n",
       "       0.56970935, 0.60038871, 0.62025355, 0.47449321, 0.5420535 ,\n",
       "       0.59558374, 0.47874917, 0.58377304, 0.53518581, 0.53278762,\n",
       "       0.53033049, 0.56801726, 0.57300998, 0.57807435, 0.60234476,\n",
       "       0.60776422, 0.5590987 , 0.44543473, 0.53752784, 0.53936275,\n",
       "       0.38066625, 0.50814044, 0.56131281, 0.61984787, 0.4804021 ,\n",
       "       0.60958246, 0.60867747, 0.58230459, 0.61820849, 0.5948035 ,\n",
       "       0.59401713, 0.51590553, 0.36635616, 0.54930614, 0.46249728,\n",
       "       0.46634391, 0.51590553, 0.47791235, 0.60234476, 0.42904594,\n",
       "       0.54806389, 0.61290502, 0.61923625, 0.49487599, 0.5370638 ,\n",
       "       0.58579332, 0.59661467, 0.58944028, 0.62025355, 0.35835189,\n",
       "       0.56524892, 0.53033049, 0.46539604, 0.54510385, 0.56970935,\n",
       "       0.42626799, 0.49836066, 0.50304379, 0.39512437, 0.40943446,\n",
       "       0.43040651, 0.21972246, 0.59026333, 0.59401713, 0.531812  ,\n",
       "       0.3871201 , 0.50238805, 0.43040651, 0.43438054, 0.5433722 ,\n",
       "       0.35553481, 0.56312118, 0.49344739, 0.60450053, 0.51761497,\n",
       "       0.56058021, 0.35835189, 0.59506426, 0.60707377, 0.59763509,\n",
       "       0.53518581, 0.57930136, 0.46443909, 0.41431347, 0.52574954,\n",
       "       0.46443909, 0.59532433, 0.53471075, 0.59964521, 0.23025851,\n",
       "       0.59162021, 0.54510385, 0.51532916, 0.27725887, 0.3912023 ,\n",
       "       0.51817836, 0.30910425, 0.44426513, 0.531812  , 0.53890717,\n",
       "       0.5370638 , 0.41271344, 0.60112672, 0.44659081, 0.35263605,\n",
       "       0.4804021 , 0.55606816, 0.61114673, 0.46634391, 0.60282785,\n",
       "       0.57397929, 0.5710427 , 0.38501476, 0.59375362, 0.58289456,\n",
       "       0.62106001, 0.52781147, 0.34339872, 0.43567088, 0.50562458,\n",
       "       0.57333413, 0.51532916, 0.57745515, 0.4060443 , 0.59026333,\n",
       "       0.54553211, 0.51119878, 0.54071718, 0.61070229, 0.61800167,\n",
       "       0.28903718, 0.4634729 , 0.57807435, 0.60450053, 0.6025866 ,\n",
       "       0.57037825, 0.531812  , 0.54026774, 0.62005092, 0.50998664,\n",
       "       0.59532433, 0.52626902, 0.55412635, 0.53375381, 0.59635793,\n",
       "       0.44886364, 0.55872487, 0.55490761, 0.61114673, 0.36375862,\n",
       "       0.58664681, 0.58171112, 0.3912023 , 0.61224928, 0.49698133,\n",
       "       0.58664681, 0.56347896, 0.57004436, 0.59026333, 0.49416424,\n",
       "       0.41108739, 0.56058021, 0.58081425, 0.61675165, 0.60354814,\n",
       "       0.46051702, 0.39318256, 0.23025851, 0.48202816, 0.55012582,\n",
       "       0.52149358, 0.58833224, 0.57071103, 0.53890717, 0.55759491,\n",
       "       0.58493248, 0.46151205, 0.60306853, 0.57557422, 0.54467374,\n",
       "       0.55834963, 0.49052748, 0.61612073, 0.47095302, 0.54889377,\n",
       "       0.50304379, 0.60844994, 0.36375862, 0.19459101, 0.58721178,\n",
       "       0.58998974, 0.46051702, 0.25649494, 0.55872487, 0.62126061,\n",
       "       0.52626902, 0.51179938, 0.57365723, 0.56383547, 0.60637852,\n",
       "       0.61506028, 0.35835189, 0.53612922, 0.55529596, 0.34965076,\n",
       "       0.61964441, 0.3871201 , 0.54026774, 0.60591232, 0.43944492,\n",
       "       0.53033049, 0.53981627, 0.43307333, 0.59939614, 0.60426328,\n",
       "       0.57462032, 0.60544393, 0.58998974, 0.56419071, 0.59162021,\n",
       "       0.52626902, 0.58318825, 0.59506426, 0.5986452 , 0.52781147,\n",
       "       0.61246834, 0.58348107, 0.56664267, 0.45538769, 0.35835189,\n",
       "       0.27080502, 0.61548581, 0.58406417, 0.59348942, 0.56835798,\n",
       "       0.57776523, 0.61590954, 0.58579332, 0.56869754, 0.56970935,\n",
       "       0.61268692, 0.55451774, 0.47184989, 0.47449321, 0.50875963,\n",
       "       0.55606816, 0.4574711 , 0.55683445, 0.51119878, 0.50937502,\n",
       "       0.58522025, 0.37376696, 0.42195077, 0.58550719, 0.60282785,\n",
       "       0.5986452 , 0.61377271, 0.54806389, 0.46821312, 0.58081425,\n",
       "       0.53518581, 0.60935698, 0.55294291, 0.61820849, 0.49558271,\n",
       "       0.48978398, 0.47273878, 0.32580965, 0.55134287, 0.55645204,\n",
       "       0.54971682, 0.56903595, 0.55529596, 0.58171112, 0.20794415,\n",
       "       0.58141305, 0.5198497 , 0.43944492, 0.60614569, 0.47184989,\n",
       "       0.5811141 , 0.47449321, 0.59814142, 0.49836066, 0.56970935,\n",
       "       0.55947114, 0.49052748, 0.42195077, 0.57776523, 0.5880533 ])"
      ]
     },
     "execution_count": 12,
     "metadata": {},
     "output_type": "execute_result"
    }
   ],
   "source": [
    "y = calx(x)\n",
    "y"
   ]
  },
  {
   "cell_type": "code",
   "execution_count": 13,
   "metadata": {},
   "outputs": [],
   "source": [
    "import matplotlib.pyplot as plt"
   ]
  },
  {
   "cell_type": "code",
   "execution_count": 14,
   "metadata": {},
   "outputs": [
    {
     "data": {
      "image/png": "[encoded data removed]",
      "text/plain": [
       "<Figure size 432x288 with 1 Axes>"
      ]
     },
     "metadata": {},
     "output_type": "display_data"
    }
   ],
   "source": [
    "plt.scatter(x,y)\n",
    "plt.show()"
   ]
  },
  {
   "cell_type": "code",
   "execution_count": null,
   "metadata": {},
   "outputs": [],
   "source": []
  }
 ],
 "metadata": {
  "kernelspec": {
   "display_name": "Python 3",
   "language": "python",
   "name": "python3"
  },
  "language_info": {
   "codemirror_mode": {
    "name": "ipython",
    "version": 3
   },
   "file_extension": ".py",
   "mimetype": "text/x-python",
   "name": "python",
   "nbconvert_exporter": "python",
   "pygments_lexer": "ipython3",
   "version": "3.5.2"
  }
 },
 "nbformat": 4,
 "nbformat_minor": 2
}
