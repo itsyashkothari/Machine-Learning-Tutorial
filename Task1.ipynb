{
 "cells": [
  {
   "cell_type": "code",
   "execution_count": 8,
   "metadata": {},
   "outputs": [],
   "source": [
    "import numpy as np"
   ]
  },
  {
   "cell_type": "code",
   "execution_count": 9,
   "metadata": {},
   "outputs": [],
   "source": [
    "x=np.random.randint(1, 1000, size=(1, 500))"
   ]
  },
  {
   "cell_type": "code",
   "execution_count": 10,
   "metadata": {},
   "outputs": [
    {
     "data": {
      "text/plain": [
       "array([[423, 703, 590, 794, 153, 648, 613, 163,   3, 469, 357, 342, 294,\n",
       "        274, 768, 517, 886, 151, 470, 892,  12, 718, 860, 202, 258, 631,\n",
       "        664, 204, 862, 309, 175, 203, 779, 282, 929, 154, 973, 514, 759,\n",
       "        502, 870, 879, 505, 558, 284, 437, 102,  55, 202, 133, 957, 959,\n",
       "        320,  24, 291, 699, 278, 771,  15, 539, 780, 522, 912, 895,  47,\n",
       "        341, 118, 272, 236, 455, 443, 569, 835, 536, 280, 659, 257, 286,\n",
       "         72, 391, 689, 799, 551, 472, 329, 729, 321, 618, 365, 988, 486,\n",
       "        172,  67, 427, 844, 954, 230,  21, 230, 210, 738, 142, 914, 154,\n",
       "        733, 948, 561, 832, 858, 511, 246, 656, 396, 883, 716,  31,  83,\n",
       "        652, 624, 552, 310, 390, 290, 943, 582, 535, 823, 552,  81, 458,\n",
       "        923, 863, 275, 590, 850, 862, 963, 970, 515, 615, 337, 472, 746,\n",
       "         72, 671, 784, 291, 564, 597, 106, 828, 988, 308, 445, 710, 691,\n",
       "         53, 141, 331, 842, 804, 779,  56, 309, 850, 388, 728, 517, 171,\n",
       "        797, 859, 335, 798, 143, 607, 154, 612, 287, 617, 959, 639,  24,\n",
       "        448, 101,  59, 404, 370, 740,  64, 957, 189, 253, 431,  60, 561,\n",
       "        857, 159, 588, 335, 750, 146, 677, 615, 451, 492, 155, 802, 188,\n",
       "        670, 456, 920, 431, 368, 227, 286, 814, 921, 907, 272, 723, 834,\n",
       "        245, 299, 450, 996, 548, 687, 111, 998,  99, 872, 387, 186,  88,\n",
       "        763, 270, 826, 800, 293, 913, 602, 816,  99, 140, 157, 348, 577,\n",
       "        457, 676, 442,  61, 675, 360, 846, 131, 826, 203, 720, 643,  63,\n",
       "        978, 366, 800, 387, 849, 219,  25, 592, 827,  32, 132, 722, 279,\n",
       "        671, 678, 800, 328,  37, 469, 252, 644, 162, 562, 789, 855, 800,\n",
       "        949, 494, 384, 815,  89,  33, 955, 447, 373, 794, 854, 137, 838,\n",
       "        391, 276, 319, 412, 643, 523, 848, 922, 144,  16, 956, 965, 756,\n",
       "         65, 401, 989, 558, 392, 401, 684, 661, 424, 129, 453, 959, 730,\n",
       "        565, 335, 825, 213, 145, 247,  64,  47, 644, 412, 552, 918, 716,\n",
       "        127, 495, 458, 225, 137, 414, 360, 701, 984, 938, 231, 692, 853,\n",
       "        761, 368, 943, 787, 425, 306, 644, 409, 720,  52, 835, 416, 412,\n",
       "        617, 143,  77, 853, 994,  26, 598, 368, 254, 358, 423, 705, 358,\n",
       "         73, 318, 833, 404, 593, 551, 643, 988, 446, 783, 840, 760, 717,\n",
       "         24,   9,  80,  45, 565, 404, 236, 735, 892,   9, 312, 209, 338,\n",
       "        902,  47, 742, 172,  16, 835,  79, 524, 490, 516, 858, 942, 474,\n",
       "        939, 703, 766, 411, 513, 140, 377, 107,  91, 514, 803, 508, 825,\n",
       "        408, 745, 625, 857, 405, 784, 383,  23, 100, 456, 336, 840, 123,\n",
       "        610,  34, 488, 236, 770, 866, 470, 716, 345, 764, 145, 649, 435,\n",
       "        345, 107, 946, 347, 653, 334,  39, 355, 295, 407, 728, 564, 535,\n",
       "        438, 781, 370, 963,  98, 982, 721, 641, 953, 921, 943, 607,  48,\n",
       "        982, 752, 323, 503, 125, 362, 261, 540,  38, 976, 961, 189, 784,\n",
       "        409,  34, 680, 163, 778,  60]])"
      ]
     },
     "execution_count": 10,
     "metadata": {},
     "output_type": "execute_result"
    }
   ],
   "source": [
    "x"
   ]
  },
  {
   "cell_type": "code",
   "execution_count": 11,
   "metadata": {},
   "outputs": [],
   "source": [
    "y= (2**-1)*np.log10(x)"
   ]
  },
  {
   "cell_type": "code",
   "execution_count": 12,
   "metadata": {},
   "outputs": [
    {
     "data": {
      "text/plain": [
       "array([[1.31317018, 1.42347766, 1.38542601, 1.44991025, 1.09234572,\n",
       "        1.4057875 , 1.39373024, 1.1060938 , 0.23856063, 1.33558642,\n",
       "        1.27633411, 1.26701305, 1.23417367, 1.21887528, 1.44268061,\n",
       "        1.35674527, 1.47371686, 1.08948847, 1.33604893, 1.47518243,\n",
       "        0.53959062, 1.42806222, 1.46724923, 1.15267568, 1.20580985,\n",
       "        1.40001468, 1.41108404, 1.15481508, 1.46775363, 1.24497924,\n",
       "        1.12151902, 1.15374802, 1.44576873, 1.22512455, 1.48400786,\n",
       "        1.09376036, 1.49405642, 1.35548156, 1.44012089, 1.35035186,\n",
       "        1.46975963, 1.47199444, 1.35164569, 1.3733171 , 1.22665917,\n",
       "        1.32024072, 1.00430009, 0.87018134, 1.15267568, 1.06192582,\n",
       "        1.49045597, 1.4909093 , 1.25257499, 0.69010562, 1.23194649,\n",
       "        1.42223859, 1.2220224 , 1.44352719, 0.58804563, 1.36579438,\n",
       "        1.4460473 , 1.35883525, 1.47999742, 1.47591152, 0.83604893,\n",
       "        1.26637719, 1.035941  , 1.21728445, 1.186456  , 1.3290057 ,\n",
       "        1.32320186, 1.37755613, 1.46084324, 1.36458239, 1.22357902,\n",
       "        1.40944271, 1.20496656, 1.22818302, 0.92866625, 1.29608838,\n",
       "        1.41910961, 1.45127339, 1.3705758 , 1.336971  , 1.25859795,\n",
       "        1.43136376, 1.25325252, 1.39549424, 1.28114643, 1.49737847,\n",
       "        1.34331813, 1.11776422, 0.9130374 , 1.31521394, 1.46317122,\n",
       "        1.48977419, 1.18086392, 0.66110965, 1.18086392, 1.16110965,\n",
       "        1.43402818, 1.07614417, 1.4804731 , 1.09376036, 1.43255199,\n",
       "        1.48840417, 1.37448143, 1.46006166, 1.46674364, 1.35421045,\n",
       "        1.19546755, 1.40845192, 1.29884759, 1.47298035, 1.42745651,\n",
       "        0.74568085, 0.95953905, 1.4071238 , 1.39759229, 1.37096954,\n",
       "        1.24568085, 1.2955323 , 1.231199  , 1.48725585, 1.38246149,\n",
       "        1.36417689, 1.45769992, 1.37096954, 0.95424251, 1.33043274,\n",
       "        1.48260085, 1.4680054 , 1.21966635, 1.38542601, 1.46470946,\n",
       "        1.46775363, 1.49181314, 1.49338587, 1.35590361, 1.39443756,\n",
       "        1.26381495, 1.336971  , 1.43636941, 0.92866625, 1.41336126,\n",
       "        1.44715803, 1.23194649, 1.37563955, 1.38798717, 1.01265293,\n",
       "        1.45901517, 1.49737847, 1.24427536, 1.32418001, 1.42562917,\n",
       "        1.41973902, 0.86213793, 1.07460956, 1.259914  , 1.46265605,\n",
       "        1.45262802, 1.44576873, 0.87409401, 1.24497924, 1.46470946,\n",
       "        1.29441586, 1.43106569, 1.35674527, 1.11649806, 1.45072916,\n",
       "        1.46699658, 1.2625224 , 1.45100145, 1.07766802, 1.39159435,\n",
       "        1.09376036, 1.39337571, 1.22894095, 1.39514258, 1.4909093 ,\n",
       "        1.40275043, 0.69010562, 1.32563901, 1.00216069, 0.88542601,\n",
       "        1.30319068, 1.28410086, 1.43461586, 0.90308999, 1.49045597,\n",
       "        1.1382309 , 1.20156026, 1.31723864, 0.88907563, 1.37448143,\n",
       "        1.46649041, 1.10069856, 1.38468866, 1.2625224 , 1.43753063,\n",
       "        1.08217643, 1.41529433, 1.39443756, 1.32708827, 1.34598255,\n",
       "        1.09516585, 1.45208718, 1.13707892, 1.4130374 , 1.32948242,\n",
       "        1.48189391, 1.31723864, 1.28292391, 1.17801293, 1.22818302,\n",
       "        1.4553122 , 1.48212982, 1.47880364, 1.21728445, 1.42956915,\n",
       "        1.46058303, 1.19458304, 1.23783559, 1.32660626, 1.49912967,\n",
       "        1.36939028, 1.41847837, 1.02266149, 1.49956527, 0.9978176 ,\n",
       "        1.47025824, 1.29385548, 1.13475647, 0.97224134, 1.44126227,\n",
       "        1.21568188, 1.45849002, 1.45154499, 1.23343381, 1.48023539,\n",
       "        1.38979825, 1.45584508, 0.9978176 , 1.07306402, 1.09794983,\n",
       "        1.27078962, 1.38058791, 1.3299581 , 1.41497335, 1.32271113,\n",
       "        0.89266492, 1.41465189, 1.27815125, 1.46368518, 1.05863565,\n",
       "        1.45849002, 1.15374802, 1.42866625, 1.40410549, 0.89967027,\n",
       "        1.49516943, 1.28174054, 1.45154499, 1.29385548, 1.46445385,\n",
       "        1.17022206, 0.69897   , 1.38616085, 1.45875275, 0.75257499,\n",
       "        1.06028697, 1.4292686 , 1.2228021 , 1.41336126, 1.41561485,\n",
       "        1.45154499, 1.25793692, 0.78410086, 1.33558642, 1.20070027,\n",
       "        1.40444293, 1.10475751, 1.37486816, 1.4485385 , 1.46598306,\n",
       "        1.45154499, 1.48863311, 1.34686347, 1.29216561, 1.4555788 ,\n",
       "        0.974695  , 0.75925697, 1.49000169, 1.32515376, 1.28585442,\n",
       "        1.44991025, 1.46572894, 1.06836028, 1.46162201, 1.29608838,\n",
       "        1.22045454, 1.25189534, 1.30744861, 1.40410549, 1.35925084,\n",
       "        1.46419793, 1.48236546, 1.07918125, 0.60205999, 1.49022895,\n",
       "        1.49226366, 1.4392609 , 0.90645668, 1.30157219, 1.49759815,\n",
       "        1.3733171 , 1.29664303, 1.30157219, 1.41752805, 1.41010073,\n",
       "        1.31368293, 1.05529486, 1.3280491 , 1.4909093 , 1.43166143,\n",
       "        1.37602422, 1.2625224 , 1.45822697, 1.1641898 , 1.080684  ,\n",
       "        1.19634848, 0.90308999, 0.83604893, 1.40444293, 1.30744861,\n",
       "        1.37096954, 1.48142134, 1.42745651, 1.05190186, 1.3473026 ,\n",
       "        1.33043274, 1.17609126, 1.06836028, 1.30850017, 1.27815125,\n",
       "        1.42285901, 1.49649755, 1.48610142, 1.18180599, 1.42005305,\n",
       "        1.46547452, 1.44069233, 1.28292391, 1.48725585, 1.44798737,\n",
       "        1.31419447, 1.24286071, 1.40444293, 1.30586165, 1.42866625,\n",
       "        0.85800167, 1.46084324, 1.30954667, 1.30744861, 1.39514258,\n",
       "        1.07766802, 0.94324536, 1.46547452, 1.49869319, 0.70748667,\n",
       "        1.38835059, 1.28292391, 1.20241686, 1.27694151, 1.31317018,\n",
       "        1.42409456, 1.27694151, 0.93166143, 1.25121356, 1.4603225 ,\n",
       "        1.30319068, 1.38652735, 1.3705758 , 1.40410549, 1.49737847,\n",
       "        1.32466743, 1.44688088, 1.46213964, 1.4404068 , 1.42775958,\n",
       "        0.69010562, 0.47712125, 0.95154499, 0.82660626, 1.37602422,\n",
       "        1.30319068, 1.186456  , 1.43314367, 1.47518243, 0.47712125,\n",
       "        1.2470773 , 1.16007314, 1.26445835, 1.47760327, 0.83604893,\n",
       "        1.43520195, 1.11776422, 0.60205999, 1.46084324, 0.94881355,\n",
       "        1.35966564, 1.34509804, 1.35632485, 1.46674364, 1.48702545,\n",
       "        1.33788917, 1.4863328 , 1.42347766, 1.44211438, 1.30692091,\n",
       "        1.35505868, 1.07306402, 1.28817068, 1.01469189, 0.9795207 ,\n",
       "        1.35548156, 1.45235777, 1.35293186, 1.45822697, 1.30533008,\n",
       "        1.43607814, 1.39794001, 1.46649041, 1.30372751, 1.44715803,\n",
       "        1.29159939, 0.68086392, 1.        , 1.32948242, 1.26316964,\n",
       "        1.46213964, 1.04495256, 1.39266492, 0.76573946, 1.34420991,\n",
       "        1.186456  , 1.44324536, 1.46875895, 1.33604893, 1.42745651,\n",
       "        1.26890955, 1.44154668, 1.080684  , 1.40612235, 1.31924463,\n",
       "        1.26890955, 1.01469189, 1.48794557, 1.27016474, 1.40745659,\n",
       "        1.26187323, 0.7955323 , 1.27511418, 1.23491101, 1.3047972 ,\n",
       "        1.43106569, 1.37563955, 1.36417689, 1.32073706, 1.44632552,\n",
       "        1.28410086, 1.49181314, 0.99561304, 1.49605574, 1.42896763,\n",
       "        1.40342901, 1.48954645, 1.48212982, 1.48725585, 1.39159435,\n",
       "        0.84062062, 1.49605574, 1.43810892, 1.25460126, 1.35078399,\n",
       "        1.04845501, 1.27935429, 1.20832025, 1.36619688, 0.7898918 ,\n",
       "        1.49472491, 1.49136169, 1.1382309 , 1.44715803, 1.30586165,\n",
       "        0.76573946, 1.41625446, 1.1060938 , 1.4454898 , 0.88907563]])"
      ]
     },
     "execution_count": 12,
     "metadata": {},
     "output_type": "execute_result"
    }
   ],
   "source": [
    "y"
   ]
  },
  {
   "cell_type": "code",
   "execution_count": 13,
   "metadata": {},
   "outputs": [],
   "source": [
    "a=np.row_stack((x, y))"
   ]
  },
  {
   "cell_type": "code",
   "execution_count": 14,
   "metadata": {},
   "outputs": [],
   "source": [
    "import matplotlib.pyplot as plt"
   ]
  },
  {
   "cell_type": "code",
   "execution_count": 15,
   "metadata": {},
   "outputs": [
    {
     "data": {
      "text/plain": [
       "<matplotlib.collections.PathCollection at 0xf64a4f0>"
      ]
     },
     "execution_count": 15,
     "metadata": {},
     "output_type": "execute_result"
    },
    {
     "data": {
      "image/png": "[encoded data removed]",
      "text/plain": [
       "<Figure size 432x288 with 1 Axes>"
      ]
     },
     "metadata": {},
     "output_type": "display_data"
    }
   ],
   "source": [
    "plt.scatter(x,y)"
   ]
  }
 ],
 "metadata": {
  "kernelspec": {
   "display_name": "Python 3",
   "language": "python",
   "name": "python3"
  },
  "language_info": {
   "codemirror_mode": {
    "name": "ipython",
    "version": 3
   },
   "file_extension": ".py",
   "mimetype": "text/x-python",
   "name": "python",
   "nbconvert_exporter": "python",
   "pygments_lexer": "ipython3",
   "version": "3.6.5"
  }
 },
 "nbformat": 4,
 "nbformat_minor": 2
}
